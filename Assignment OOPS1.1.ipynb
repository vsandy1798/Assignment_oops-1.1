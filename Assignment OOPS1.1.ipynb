{
 "cells": [
  {
   "cell_type": "markdown",
   "id": "868155b2-1dba-4131-905c-336ba4659c19",
   "metadata": {},
   "source": [
    "Q1. Explain Class and Object with respect to Object-Oriented Programming. Give a suitable example."
   ]
  },
  {
   "cell_type": "code",
   "execution_count": 1,
   "id": "d07c4fc5-31e5-421a-b6e9-6f1d043d6917",
   "metadata": {},
   "outputs": [
    {
     "data": {
      "text/plain": [
       "<bound method pw_s.data of <__main__.pw_s object at 0x7f41d6fd7d00>>"
      ]
     },
     "execution_count": 1,
     "metadata": {},
     "output_type": "execute_result"
    }
   ],
   "source": [
    "\"\"\"Class- class is set of rule or function defined for object or we can say that it is object constructor.\n",
    "Object- object is like data type which belongs to a specific class and follow specific rules written in that class\"\"\"\n",
    "#let's understand with example\n",
    "#we create a class let's say pw_s\n",
    "class pw_s:\n",
    "     # now we write function for objects which fall in this class\n",
    "        def data():\n",
    "            return 1\n",
    "#Now we create a object under that class\n",
    "ram=pw_s()\n",
    "ram.data"
   ]
  },
  {
   "cell_type": "markdown",
   "id": "1a712815-cce9-4cdc-b024-1b0efcb53eb5",
   "metadata": {},
   "source": [
    "Q2. Name the four pillars of OOPs."
   ]
  },
  {
   "cell_type": "markdown",
   "id": "0640f380-3871-47b8-b489-666426981c03",
   "metadata": {},
   "source": [
    "The Four pillars of OOPs, abstraction, encapsulation, inheritance, and polymorphism, are integral to understanding and using OOP. By using these four pillars of OOPs, developers can create programs that are powerful, maintainable, and extensible, making them a great choice for software development."
   ]
  },
  {
   "cell_type": "markdown",
   "id": "82c5dd4b-372f-4a9b-8b59-2818a0402798",
   "metadata": {},
   "source": [
    "Q3. Explain why the __init__() function is used. Give a suitable example."
   ]
  },
  {
   "cell_type": "code",
   "execution_count": 3,
   "id": "7f1f36d4-49c9-4c3d-9c50-2cf0d90170e3",
   "metadata": {},
   "outputs": [],
   "source": [
    "#__init__ is used to pass some input in class \n",
    "class shyam:\n",
    "    def __init__(self,name, roll_no):\n",
    "        self.name=name \n",
    "        self.roll_no=roll_no"
   ]
  },
  {
   "cell_type": "code",
   "execution_count": 4,
   "id": "2fa8d3a1-0a15-438f-9d7b-0643eeffbf77",
   "metadata": {},
   "outputs": [],
   "source": [
    "sandeep = shyam(\"sandeep\", 24)"
   ]
  },
  {
   "cell_type": "code",
   "execution_count": 5,
   "id": "a376a539-9906-4376-be45-3f1cbeba312e",
   "metadata": {},
   "outputs": [
    {
     "data": {
      "text/plain": [
       "'sandeep'"
      ]
     },
     "execution_count": 5,
     "metadata": {},
     "output_type": "execute_result"
    }
   ],
   "source": [
    "sandeep.name"
   ]
  },
  {
   "cell_type": "markdown",
   "id": "3ec77363-a119-4b15-829e-33813ce2aa0c",
   "metadata": {},
   "source": [
    "Q4. Why self is used in OOPs?"
   ]
  },
  {
   "cell_type": "markdown",
   "id": "28fbbd2b-1926-451d-a5f0-0232f9e40104",
   "metadata": {},
   "source": [
    "The “self” keyword represents the instance of the class. By using the “self” keyword, we can access the attributes and methods of the class. It is useful in method definitions and in variable initialization. The “self” is explicitly used every time we define a method."
   ]
  },
  {
   "cell_type": "markdown",
   "id": "70d79f60-1cc3-4445-b81f-e0270de6fcb5",
   "metadata": {},
   "source": [
    "Q5. What is inheritance? Give an example for each type of inheritance."
   ]
  },
  {
   "cell_type": "markdown",
   "id": "96e69031-04c7-4eac-9d9b-c086b6ec00a0",
   "metadata": {},
   "source": [
    "Inheritance is the property of class in which a class inherit properties of different class.\n",
    "Different type of inheritances are:\n",
    "    1. Single inheritance : In these a class inherit property of a single class. Ex- class n2(n1), In this n2 inherit only n1\n",
    "    2. Multi inheritance- : In these a class inherit proprty of many class. Ex- class n3(n1,n0),in this n3 inherit n1 and n0\n",
    "    3. Multi-level inheritance: In these a class inherit property of a class which alre"
   ]
  },
  {
   "cell_type": "markdown",
   "id": "5ca68f44-3e4b-4b75-95ca-7b5475527fb1",
   "metadata": {},
   "source": []
  }
 ],
 "metadata": {
  "kernelspec": {
   "display_name": "Python 3 (ipykernel)",
   "language": "python",
   "name": "python3"
  },
  "language_info": {
   "codemirror_mode": {
    "name": "ipython",
    "version": 3
   },
   "file_extension": ".py",
   "mimetype": "text/x-python",
   "name": "python",
   "nbconvert_exporter": "python",
   "pygments_lexer": "ipython3",
   "version": "3.10.8"
  }
 },
 "nbformat": 4,
 "nbformat_minor": 5
}
